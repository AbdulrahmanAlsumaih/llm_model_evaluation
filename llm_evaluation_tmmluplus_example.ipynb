{
  "nbformat": 4,
  "nbformat_minor": 0,
  "metadata": {
    "colab": {
      "provenance": [],
      "machine_shape": "hm",
      "gpuType": "T4"
    },
    "kernelspec": {
      "name": "python3",
      "display_name": "Python 3"
    },
    "language_info": {
      "name": "python"
    },
    "accelerator": "GPU"
  },
  "cells": [
    {
      "cell_type": "markdown",
      "source": [
        "Google Colab Environment: T4 GPU in large RAM"
      ],
      "metadata": {
        "id": "cJTQt6Bt8edD"
      }
    },
    {
      "cell_type": "code",
      "source": [
        "# Download tmmluplus dataset\n",
        "\n",
        "!git lfs install\n",
        "!git clone https://huggingface.co/datasets/ikala/tmmluplus"
      ],
      "metadata": {
        "colab": {
          "base_uri": "https://localhost:8080/"
        },
        "id": "OrBE2atXqBIj",
        "outputId": "503ca15c-83c8-426f-ee3f-e415e0298943"
      },
      "execution_count": 1,
      "outputs": [
        {
          "output_type": "stream",
          "name": "stdout",
          "text": [
            "Git LFS initialized.\n",
            "Cloning into 'tmmluplus'...\n",
            "remote: Enumerating objects: 330, done.\u001b[K\n",
            "remote: Counting objects: 100% (326/326), done.\u001b[K\n",
            "remote: Compressing objects: 100% (326/326), done.\u001b[K\n",
            "remote: Total 330 (delta 75), reused 0 (delta 0), pack-reused 4\u001b[K\n",
            "Receiving objects: 100% (330/330), 2.71 MiB | 2.92 MiB/s, done.\n",
            "Resolving deltas: 100% (75/75), done.\n"
          ]
        }
      ]
    },
    {
      "cell_type": "code",
      "source": [
        "# list the unique dataset\n",
        "\n",
        "import os\n",
        "\n",
        "file_types = ['_dev.csv', '_test.csv', '_train.csv', '_val.csv']\n",
        "\n",
        "def list_unique_files(directory):\n",
        "    unique_files = []\n",
        "    for root, dirs, files in os.walk(directory):\n",
        "        for file in files:\n",
        "            for file_type in file_types:\n",
        "                if file_type in file:\n",
        "                    file = file.replace(file_type, \"\")\n",
        "            if file not in unique_files:\n",
        "                unique_files.append(file)\n",
        "    return unique_files\n",
        "\n",
        "# 使用範例\n",
        "directory = '/content/tmmluplus/data'\n",
        "unique_files = list_unique_files(directory)\n",
        "\n",
        "print(unique_files)"
      ],
      "metadata": {
        "id": "NqnVo5jHq1B6"
      },
      "execution_count": null,
      "outputs": []
    },
    {
      "cell_type": "code",
      "source": [
        "# Add new folder and subfolder.\n",
        "\n",
        "!mkdir ./tmmluplus/data_arrange/\n",
        "!mkdir ./tmmluplus/data_arrange/dev/\n",
        "!mkdir ./tmmluplus/data_arrange/val/\n",
        "!mkdir ./tmmluplus/data_arrange/test/"
      ],
      "metadata": {
        "id": "030hPEVT0pL0"
      },
      "execution_count": 4,
      "outputs": []
    },
    {
      "cell_type": "code",
      "source": [
        "# Copy the related data csv file into data_arrange folder.\n",
        "\n",
        "import shutil\n",
        "\n",
        "file_types = ['dev', 'test', 'val']\n",
        "\n",
        "for unique_file in unique_files:\n",
        "    for file_type in file_types:\n",
        "        source_path = \"./tmmluplus/data/{}_{}.csv\".format(unique_file, file_type)\n",
        "        destination_path = \"./tmmluplus/data_arrange/{}/{}_{}.csv\".format(file_type, unique_file, file_type)\n",
        "        # Copy the file\n",
        "        shutil.copy(source_path, destination_path)"
      ],
      "metadata": {
        "id": "gqXQg-vd0pJv"
      },
      "execution_count": 5,
      "outputs": []
    },
    {
      "cell_type": "code",
      "source": [
        "# Git clone the evaluation code\n",
        "\n",
        "!git clone https://github.com/LiuYuWei/llm_evaluation_tmmluplus.git"
      ],
      "metadata": {
        "colab": {
          "base_uri": "https://localhost:8080/"
        },
        "id": "yz2z9OO_q08G",
        "outputId": "30e765e8-498a-43ca-8a78-c8313c3f946d"
      },
      "execution_count": 6,
      "outputs": [
        {
          "output_type": "stream",
          "name": "stdout",
          "text": [
            "Cloning into 'llm_evaluation_tmmluplus'...\n",
            "remote: Enumerating objects: 12, done.\u001b[K\n",
            "remote: Counting objects: 100% (12/12), done.\u001b[K\n",
            "remote: Compressing objects: 100% (10/10), done.\u001b[K\n",
            "remote: Total 12 (delta 1), reused 7 (delta 0), pack-reused 0\u001b[K\n",
            "Receiving objects: 100% (12/12), 9.43 KiB | 9.43 MiB/s, done.\n",
            "Resolving deltas: 100% (1/1), done.\n"
          ]
        }
      ]
    },
    {
      "cell_type": "code",
      "source": [
        "# Git clone the huggingface model\n",
        "## It might cost lots of time.\n",
        "\n",
        "!git lfs install\n",
        "!git clone https://huggingface.co/mistralai/Mistral-7B-v0.1"
      ],
      "metadata": {
        "colab": {
          "base_uri": "https://localhost:8080/"
        },
        "id": "Y6x30IUPq06L",
        "outputId": "8192d1c9-9dc8-46d2-c44c-e47b3f5a327c"
      },
      "execution_count": 7,
      "outputs": [
        {
          "output_type": "stream",
          "name": "stdout",
          "text": [
            "Git LFS initialized.\n",
            "Cloning into 'Mistral-7B-v0.1'...\n",
            "remote: Enumerating objects: 87, done.\u001b[K\n",
            "remote: Counting objects: 100% (83/83), done.\u001b[K\n",
            "remote: Compressing objects: 100% (82/82), done.\u001b[K\n",
            "remote: Total 87 (delta 43), reused 0 (delta 0), pack-reused 4\u001b[K\n",
            "Unpacking objects: 100% (87/87), 473.17 KiB | 1.18 MiB/s, done.\n",
            "Filtering content: 100% (5/5), 3.46 GiB | 11.05 MiB/s, done.\n",
            "Encountered 4 file(s) that may not have been copied correctly on Windows:\n",
            "\tmodel-00002-of-00002.safetensors\n",
            "\tpytorch_model-00002-of-00002.bin\n",
            "\tmodel-00001-of-00002.safetensors\n",
            "\tpytorch_model-00001-of-00002.bin\n",
            "\n",
            "See: `git lfs help smudge` for more details.\n"
          ]
        }
      ]
    },
    {
      "cell_type": "code",
      "source": [
        "!pip install -q accelerate"
      ],
      "metadata": {
        "colab": {
          "base_uri": "https://localhost:8080/"
        },
        "id": "w2uXGkUoq03k",
        "outputId": "5c88e8af-f303-45ed-86fd-a266237fb63c"
      },
      "execution_count": 8,
      "outputs": [
        {
          "output_type": "stream",
          "name": "stdout",
          "text": [
            "\u001b[?25l     \u001b[90m━━━━━━━━━━━━━━━━━━━━━━━━━━━━━━━━━━━━━━━━\u001b[0m \u001b[32m0.0/265.7 kB\u001b[0m \u001b[31m?\u001b[0m eta \u001b[36m-:--:--\u001b[0m\r\u001b[2K     \u001b[91m━━━━━━━━━━━━━\u001b[0m\u001b[91m╸\u001b[0m\u001b[90m━━━━━━━━━━━━━━━━━━━━━━━━━━\u001b[0m \u001b[32m92.2/265.7 kB\u001b[0m \u001b[31m2.8 MB/s\u001b[0m eta \u001b[36m0:00:01\u001b[0m\r\u001b[2K     \u001b[90m━━━━━━━━━━━━━━━━━━━━━━━━━━━━━━━━━━━━━━━━\u001b[0m \u001b[32m265.7/265.7 kB\u001b[0m \u001b[31m5.3 MB/s\u001b[0m eta \u001b[36m0:00:00\u001b[0m\n",
            "\u001b[?25h"
          ]
        }
      ]
    },
    {
      "cell_type": "code",
      "source": [
        "!python3 /content/llm_evaluation_tmmluplus/evaluate_hf.py -m /content/Mistral-7B-v0.1 --data_dir \"/content/tmmluplus/data_arrange/\" --save_dir \"/content/drive/MyDrive/LLM 測試/mmlu-testing/result\""
      ],
      "metadata": {
        "colab": {
          "base_uri": "https://localhost:8080/"
        },
        "id": "VtKJAaVwq0yn",
        "outputId": "03f26013-cc2e-4cfd-ffda-7e72ce462598"
      },
      "execution_count": null,
      "outputs": [
        {
          "output_type": "stream",
          "name": "stdout",
          "text": [
            "Loading checkpoint shards: 100% 2/2 [00:55<00:00, 27.68s/it]\n",
            "WARNING:root:Some parameters are on the meta device device because they were offloaded to the cpu.\n",
            "2024-01-09 01:41:46.854717: E external/local_xla/xla/stream_executor/cuda/cuda_dnn.cc:9261] Unable to register cuDNN factory: Attempting to register factory for plugin cuDNN when one has already been registered\n",
            "2024-01-09 01:41:46.854823: E external/local_xla/xla/stream_executor/cuda/cuda_fft.cc:607] Unable to register cuFFT factory: Attempting to register factory for plugin cuFFT when one has already been registered\n",
            "2024-01-09 01:41:46.951078: E external/local_xla/xla/stream_executor/cuda/cuda_blas.cc:1515] Unable to register cuBLAS factory: Attempting to register factory for plugin cuBLAS when one has already been registered\n",
            "2024-01-09 01:41:49.127551: W tensorflow/compiler/tf2tensorrt/utils/py_utils.cc:38] TF-TRT Warning: Could not find TensorRT\n",
            "Average accuracy 0.229 - accounting\n",
            "Average accuracy 0.266 - administrative_law\n"
          ]
        }
      ]
    },
    {
      "cell_type": "code",
      "source": [],
      "metadata": {
        "id": "z0Ohwkpbq0hc"
      },
      "execution_count": 9,
      "outputs": []
    }
  ]
}